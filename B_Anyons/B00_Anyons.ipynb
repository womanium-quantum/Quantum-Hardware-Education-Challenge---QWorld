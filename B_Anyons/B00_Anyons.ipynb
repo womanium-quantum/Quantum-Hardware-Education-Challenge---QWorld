{
 "cells": [
  {
   "cell_type": "markdown",
   "id": "b5d603e4",
   "metadata": {},
   "source": [
    "# Anyons"
   ]
  },
  {
   "cell_type": "markdown",
   "id": "7939afee",
   "metadata": {},
   "source": [
    "<table width=\"100%\"><tr><td style=\"color:#bbbbbb;background-color:#ffffff;font-size:11px;font-style:italic;text-align:right;\">LaTeX macros. Do not delete!</td></tr></table>\n",
    "$ \\newcommand{\\bra}[1]{\\langle #1|} $\n",
    "$ \\newcommand{\\ket}[1]{|#1\\rangle} $\n",
    "$ \\newcommand{\\braket}[2]{\\langle #1|#2\\rangle} $\n",
    "$ \\newcommand{\\mymatrix}[2]{\\left( \\begin{array}{#1} #2\\end{array} \\right)} $"
   ]
  },
  {
   "cell_type": "markdown",
   "id": "8ac1e1ec",
   "metadata": {},
   "source": [
    "## Topological equivalence"
   ]
  },
  {
   "cell_type": "markdown",
   "id": "e4253f18",
   "metadata": {},
   "source": [
    "Broadly speaking, topology is the study of geometrical shapes and their properties under continuous deformations like stretching, squeezing, or twisting. Cutting a shape or poking a hole in it do not constitute continuous deformations and, therefor, are not allowed deformations.\n",
    "\n",
    "In the famous example below, we can see how a mug (the handle on the mug is important here!) can be continuously deformed into a torus:\n"
   ]
  },
  {
   "cell_type": "markdown",
   "id": "dc7c22ff",
   "metadata": {},
   "source": [
    "![](images/Mug_and_Torus_morph.gif \"Animation by Lucas Vieira, Wikimedia. License: Public Domain.\")\n",
    "<center><i><b>Figure 1</b> Continuous deformation of a mug into a torus.<br>\n",
    "    (Lucas Vieira, Wikimedia. License: Public Domain.)</i></center>"
   ]
  },
  {
   "cell_type": "markdown",
   "id": "3f8886fa",
   "metadata": {},
   "source": [
    "Having proven, visually at least, that a mug and a torus can be continuously be deformed into each other, we can then say that the two shapes are ***topologically equivalent***, i.e., they have the same topological properties.<br>\n",
    "In this case, the topological property these two shapes share is the single hole that is present in both of them. No matter how we continuously deform them, the resulting shapes will always have a single hole in them.\n"
   ]
  },
  {
   "cell_type": "markdown",
   "id": "c62e0b26",
   "metadata": {},
   "source": [
    "This notion of topological equivalence between shapes is of the utmost importance in Topological Quantum Computing!"
   ]
  },
  {
   "cell_type": "markdown",
   "id": "40b31c6c",
   "metadata": {},
   "source": [
    "#### Exercise 1\n",
    "\n",
    "Using the definition of topological equivalence given above, classify the characters **{0, 1, 2, 5, 7, 8, D, L, M, N, B}** according to their topology, such that each character in a given class can be continuously deformed into another character in the same class."
   ]
  },
  {
   "cell_type": "markdown",
   "id": "2ea4a0b4",
   "metadata": {},
   "source": [
    "#### Solution 1 (to be hidden)\n",
    "1. **{1, 2, 3, 5, 7, L, M, N}**<br>\n",
    "1. **{0, D}**<br>\n",
    "1. **{8, B}**"
   ]
  },
  {
   "cell_type": "markdown",
   "id": "76eb57d3",
   "metadata": {},
   "source": [
    "## Anyons"
   ]
  },
  {
   "cell_type": "markdown",
   "id": "14970f53",
   "metadata": {},
   "source": [
    "### From 3D topology to 2D topology"
   ]
  },
  {
   "cell_type": "markdown",
   "id": "75f736ce",
   "metadata": {},
   "source": [
    "Let's consider two indistinguishable particles, $p_1$ and $p_2$, in 3D space.\n",
    "\n",
    "Recall that in quantum mechanics, we describe particles and systems of particles with a wave function $\\psi(x,y,z)$, which we will just write as $\\psi$ for convenience.<br>\n",
    "Thus, to describe our two particles, we would normally need two wave functions $\\psi_1$ and $\\psi_2$. But since the two particles are not distinguishable, we have to consider the wave function for the whole system of two particles, which can also be described with a wavefunction $\\psi_{12}$.\n",
    "\n",
    "We now want to exchange the positions of our two particle. The simplest way we can do that is by taking $p_2$, and rotating it around $p_1$ by angle $\\Delta\\phi = 180°$, or $\\pi$ in radian.<br>\n",
    "There are two different ways of applying this rotation:\n",
    "1. Clockwise: corresponding to $\\Delta\\phi = -\\pi$.\n",
    "1. Counterclockwise: corresponding to $\\Delta\\phi = +\\pi$."
   ]
  },
  {
   "cell_type": "markdown",
   "id": "fb321994",
   "metadata": {},
   "source": [
    "![](images/counterclockwise.gif \"A counterclockwise rotation.\")\n",
    "<center><i><b>Figure 2</b> A particle rotating around another by 180° counterclockwise.</i></center><br>"
   ]
  },
  {
   "cell_type": "markdown",
   "id": "61a79bb7",
   "metadata": {},
   "source": [
    "Such a rotation will change the wave function $\\psi_{12}$ to the rotated wavefunction $\\psi'_{12}$. The latter is related to the former by a global phase as follows:\n",
    "\n",
    "$$\\psi'_{12} = e^{i\\nu\\Delta\\phi}\\psi_{12}$$\n",
    "\n",
    "where $\\nu$ is a parameter which depends on the type of particles $p_1$ and $p_2$. (we will se what *'type'* means later)\n",
    "\n",
    "We can now explicitly write down the wave functions resulting from the two aforementioned possible rotations:\n",
    "\n",
    "$$\\psi'_{12\\,clockwise} = e^{-i\\nu\\pi}\\psi_{12}$$\n",
    "$$\\psi'_{12\\,counterclockwise} = e^{+i\\nu\\pi}\\psi_{12}$$\n",
    "\n",
    "The two results seem to be different, each rotation yielding a different phase. *But are these rotations* ***really different***?\n",
    "\n",
    "If we pay close attention to what we just performed, we can clearly see that only the angle of rotation, $\\Delta\\phi$, is important, not the details of the path $p_2$ has taken around $p_1$. Therefor, to find out whether the two rotations are different or not, it is sufficient to check whether the clockwise path is ***topologically equivalent*** to the counterclockwise path.\n",
    "\n",
    "So we have a path, or a line with an arrow attached to it, in 3D space starting from the initial position of $p_2$ and ending in its final position, with $p_1$ somewhere between the two ends. Let's continuously deform this line around $p_1$ and see what we get."
   ]
  },
  {
   "cell_type": "markdown",
   "id": "8911b50b",
   "metadata": {},
   "source": [
    "![](images/paths_equivalence.gif \"Checking the equivalance of the two paths\")\n",
    "<center><i><b>Figure 3</b> The counterclockwise path is rotated around the $p_1-p_2$ axis. It matches the clockwise path at the end!</i></center><br>"
   ]
  },
  {
   "cell_type": "markdown",
   "id": "70d95691",
   "metadata": {},
   "source": [
    "The clockwise and counterclockwise rotations are **equivalent**! Therefor,\n",
    "\n",
    "$$\\psi'_{12\\,clockwise} = \\psi'_{12\\,counterclockwise}$$\n",
    "\n",
    "$$e^{-i\\nu\\pi}\\psi_{12} = e^{+i\\nu\\pi}\\psi_{12}$$\n",
    "\n",
    "$$e^{-i\\nu\\pi} = e^{+i\\nu\\pi}$$\n",
    "\n",
    "Solving for $\\nu$, we get:\n",
    "\n",
    "$$\\nu = 0, 1$$\n",
    "\n",
    "Recall that $\\nu$ tells us what type of particles $p_1$ and $p_2$ are. In this case, we can only have two types of particles, corresponding to the two possible values of $\\nu$. These two types of particles are called ***bosons*** ($\\nu=0$) and ***fermions*** ($\\nu=1$)."
   ]
  },
  {
   "cell_type": "markdown",
   "id": "22141f7f",
   "metadata": {},
   "source": [
    "*(Possible section and exercice about bosons and fermions here)*"
   ]
  },
  {
   "cell_type": "markdown",
   "id": "fe85547e",
   "metadata": {},
   "source": [
    "We have now seen how quantum mechanics allows for only bosons and fermions to exist in 3D space. But what if we were in 2D space? Would we still only have bosons and fermions?\n",
    "\n",
    "Let's go back a few steps and understand *why* we ended up with only bosons and fermions in 3D.\n",
    "\n",
    "After rotating $p_2$ around $p_1$, we had the follwing possible wave functions:\n",
    "\n",
    "$$\\psi'_{12\\,clockwise} = e^{-i\\nu\\pi}\\psi_{12}$$\n",
    "$$\\psi'_{12\\,counterclockwise} = e^{+i\\nu\\pi}\\psi_{12}$$\n",
    "\n",
    "Then, we continuously deformed the path of $p_2$ **around** $p_1$. That is, we used the third dimension to avoid the particle $p_1$ and transform one path into the other. In 2D space, we no longer have access to that third dimension! We would then have to cut $p_2$'s path, and glue it back behind $p_1$ to make the two paths equivalent. Is this allowed? Of course not!<br>"
   ]
  },
  {
   "cell_type": "markdown",
   "id": "4e16c052",
   "metadata": {},
   "source": [
    "![](images/paths_inequivalence.gif \"Checking the equivalance of the two paths in 2D\")\n",
    "<center><i><b>Figure 4</b> The counterclockwise path cannot be superimposed on the clockwise path in 2D.</i></center><br>\n"
   ]
  },
  {
   "cell_type": "markdown",
   "id": "7ae00c77",
   "metadata": {},
   "source": [
    "We cannot continuously deform one path into the other in this case. The two paths are not topologically equivalent. and we no longer have a constraint on $\\nu$.\n",
    "\n",
    "In 2D, we can then have $\\nu=0$ (bosons), $\\nu=1$ (fermions), or *any* other value. In other words, we can have *any* type of particles. And they can behave like bosons, fermions, or *anything* in between.\n",
    "\n",
    "How shall we call these new 2D particles? *Any* ideas? Notice *any* reccuring word? **Anyons**!\n",
    "\n",
    "Anyons, unlike bosons and fermions, produce more interesting phases when rotated around each other. As we saw above, exchanging two bosons gives\n",
    "$$\\psi'_{12} = +\\psi_{12}$$\n",
    "\n",
    "And the exchange of two fermions gives\n",
    "$$\\psi'_{12} = -\\psi_{12}$$\n",
    "\n",
    "With anyons, however, the phase, $e^{\\pm i\\nu\\pi}$, is more interesting than just $\\pm1$. This allows us to change the state of a system of $N$ anyons into a non-trivial state (that is, not just multiplying it by $\\pm1$) by exchanging the anyons two-by-two. Therefor, if we can make the state of these anyons change over time in a controled way, we can perform computation!"
   ]
  },
  {
   "cell_type": "markdown",
   "id": "e35c0915",
   "metadata": {},
   "source": [
    "### The topological power of anyons"
   ]
  },
  {
   "cell_type": "markdown",
   "id": "f4fabd5e",
   "metadata": {},
   "source": [
    "Let us take a moment to understand the implications of what we've learned in the last section.\n",
    "\n",
    "Suppose that we can somehow encode information in the state of a system of anyons. We already now that this state is only affected by the exchange of anyons within this system. As long as the anyons themselves are preserved, i.e., not destroyed, and no exchanges of anyons happen within the system, the global state where we encoded our information remains unchanged!<br>\n",
    "In other words, local pertubations that could affect the individual anyons do not affect the state of the total system. This is because the information was encoded in a topological property of the system. This property being the order of the individual anyons.\n"
   ]
  },
  {
   "cell_type": "markdown",
   "id": "a50ac249",
   "metadata": {},
   "source": [
    "![](images/perturbations.gif \"Local perturbations on anyons\")\n",
    "<center style=\"margin-right: 120px; margin-left: 120px;\"><i><b>Figure 5</b> The environment causes small perturbations on individual anyons, but it's not enough to cause exchanges. The order <b>Red</b> - <b>Blue</b> - <b>Black</b> - <b>Green</b> remains unchanged.</i></center><br>"
   ]
  },
  {
   "cell_type": "markdown",
   "id": "deffc6ca",
   "metadata": {},
   "source": [
    "As we can see in the animation above, if a qubit was encoded in one of the four particles, the environment would've had a greater impact on it. This is what would happen if we used, for example, the spin of an atom as a qubit. If the spin is flipped, we lose our information.<br>\n",
    "But since the state of the qubit is encoded on the whole system, small perturbations from the environment have little impact on it. For perturbations to significantly affect the qubit, they would need to be strong enough to change the order of at least two particles.\n",
    "\n",
    "We can further protect our ***topological qubit*** just by increasing the distance between each pair of anyons."
   ]
  },
  {
   "cell_type": "markdown",
   "id": "81064a8f",
   "metadata": {},
   "source": [
    "## Topological qubits with Anyons"
   ]
  },
  {
   "cell_type": "markdown",
   "id": "9400fd97",
   "metadata": {},
   "source": [
    "With our understanding of how anyons work, let's start using them to create qubits. In the following sections, we will see how the states $\\ket{0}$ and $\\ket{1}$ are encoded. After that, we will see how we can alter the qubits state by ***braiding*** anyons.\n",
    "\n",
    "In our description of anyons above, we have mention the parameter $\\nu$, called the *statistics*, and how it can take an infinite number of values. Recall that $\\nu = 0$ and $\\nu = 1$ correspond to bosons and fermions, respectively. In the case of anyons, each value of $\\nu$ corresponds to a type of anyons with different behaviors. (just as bosons and fermions behave differently).To be more rigorous, $\\nu$ is in general a matrix, but we will not delve into these mathematical details as they will be of little to no use to us for the rest of the course.\n",
    "\n",
    "In what follows, we will consider a type of anyons called **Fibonacci anyons**. These anyons have simple interaction rules, yet their behavior when exchanged is complex enough to allow for universal computation! Let's now see how Fibonacci anyons work."
   ]
  },
  {
   "cell_type": "markdown",
   "id": "036b8322",
   "metadata": {},
   "source": [
    "### Fusion rules: the Fibonacci model"
   ]
  },
  {
   "cell_type": "markdown",
   "id": "44d4e83f",
   "metadata": {},
   "source": [
    "In particle physics, every particle is associated with an antiparticle. We have known this since the 1930s when Paul Dirac, as a result of his famous Dirac equation, predicted the existance of antimatter. It is also known that particles and their antiparticles annihilate each other when they interact, resulting in a release of energy, leaving only a vacuum where the interaction happened.<br>\n",
    "Dirac's equation also tells us that this annihilation process can be reversed: using an amount of energy, we can create pairs of particles and antiparticles from the vacuum.\n",
    "\n",
    "Now why are we talking about particle physics here? Well, it's because anyons also need to obey the laws of physics. Although their physics can be richer than the usual particle physics of our three dimensional world."
   ]
  },
  {
   "cell_type": "markdown",
   "id": "aa105f7b",
   "metadata": {},
   "source": [
    "#### Charges"
   ]
  },
  {
   "cell_type": "markdown",
   "id": "38e2b412",
   "metadata": {},
   "source": [
    "Before describing the interactions of Fibanacci anyons, let us first define the notion of ***anyonic charge***: an single anyon has a charge $1$, while for the vacuum, or no anyons, the charge is $0$. The total charge of $N$ anyons is the charge of their fusion outcome, as we will see bellow.<br>\n",
    "This charge is also **conserved**: in a closed system of anyons, the total charge remains constant.\n",
    "\n",
    "This notion of anyonic charge isn't a physical property, but rather just a tool to simplify our notations later."
   ]
  },
  {
   "cell_type": "markdown",
   "id": "fdeb20dd",
   "metadata": {},
   "source": [
    "<img src=\"images/charges.png\" width=\"500\"/><br>\n",
    "<center> <i><b>Figure 6</b><br>Region $a$ encloses one anyon, its charge is thus $a = 1$.<br>\n",
    "            Region $b$ encloses no anyons, so $b = 0$.<br>\n",
    "            Region $c$ encloses many anyons, so $c = 0$ or $1$, depending on their fusion outcome.</i> </center>"
   ]
  },
  {
   "cell_type": "markdown",
   "id": "1a9fe23b",
   "metadata": {},
   "source": [
    "#### Fusion"
   ]
  },
  {
   "cell_type": "markdown",
   "id": "f2471f17",
   "metadata": {},
   "source": [
    "We can do two things with anyons: we can exchange them, and we can fuse them together. We will describe the fusion of anyons as follows:\n",
    "\n",
    "$$a \\times b = c$$\n",
    "\n",
    "This equation means that by fusing $a$ and $b$, we get $c$. Or in the language of charges; the fusion of charges $a$ and $b$, yields a charge $c$.\n",
    "\n",
    "We can now summarize the interactions, and more specifically the fusions, of Fibonacci anyons using the charge $1$ (a Fibonacci anyon) and $0$ (the vacuum):\n",
    "\n",
    "$$0 \\times 0 = 0$$\n",
    "$$0 \\times 1 = 1$$\n",
    "$$1 \\times 0 = 1$$\n",
    "$$1 \\times 1 = 0, 1$$\n",
    "\n",
    "1. The first rule states that fusing the vacuum (no anyons) with the vacuum, yields the vacuum. Trivial!\n",
    "1. The second rule states that fusing the vacuum with a Fibonacci anyon, yields an anyon.\n",
    "1. The third rule is the same as the second, and is just stated here for completeness.\n",
    "1. The fourth rule is more interesting: given two Fibonacci anyons, their fusion can result in either the vacuum or another Fibonacci anyon.\n",
    "\n",
    "The fourth rule tells us two important things:<br>\n",
    "1. Fibonacci anyons are their own antiparticles if they fuse into a vacuum, annihilating eachother.\n",
    "1. If they annihilate each other, we can reverse that process and create pairs of anyons, each having a charge $1$, but both amounting to a charge $0$.\n",
    "\n",
    "Using the above stated rules, and using the last point about rule four, we have a process of creating anyons which will yield known fusion results."
   ]
  },
  {
   "cell_type": "markdown",
   "id": "c40f7744",
   "metadata": {},
   "source": [
    "![](images/pair_creation.gif \"Braiding anyons\")\n",
    "<center style=\"margin-right: 120px; margin-left: 120px;\"><i><b>Figure 7</b> A pair of anyons is created from the vacuum. Since before their creation there was a vacuum, the charge of the system of both anyons is $0$, and their fusion will yield the vacuum (charge $0$) with certainty.</i></center><br>"
   ]
  },
  {
   "cell_type": "markdown",
   "id": "e27ff887",
   "metadata": {},
   "source": [
    " ### Topoogical qubits with 3 anyons"
   ]
  },
  {
   "cell_type": "markdown",
   "id": "863da33c",
   "metadata": {},
   "source": [
    "Now that we know how to create anyons and how to fuse them, we can start encoding information on them, that is, creating qubits using anyons.\n",
    "\n",
    "There is a variety of ways of encoding qubits on Fibonacci anyons, and we will go with the easiest one: 3-anyons qubits.<br>\n",
    "In this model, we will use the fusion products of three anyons to represent our quantum states $\\ket{0}$ and $\\ket{1}$. So let's consider three Fibonacci qubits and, using the fusion rules described above, see what are the possible outcomes when we fuse them.\n",
    "\n",
    "Recall that we can represent anyons with their charges, so the fusion of 3 anyons can be represented as such:\n",
    "\n",
    "$$1 \\times 1 \\times 1$$\n",
    "\n",
    "We also need to specify which pair of anyons we fuse first. As a convention, we start by the leftmost pair.\n",
    "\n",
    "$$(1 \\times 1) \\times 1$$\n",
    "\n",
    "From the fourth fusion rule, we know that we will have multiple possible outcomes for the fusion of three anyons. In fact, we will have exactly 3 possibilities."
   ]
  },
  {
   "cell_type": "markdown",
   "id": "98271403",
   "metadata": {},
   "source": [
    "<div>\n",
    "    <img src=\"images/states.png\" width=\"500\"/><br>\n",
    "    <center style=\"margin-right: 120px; margin-left: 120px;\"><i><b>Figure 8</b> Fusing three Fibonnacci anyons. We have 3 possible combinations of intermediate and final states. Only the fusions with a final state $1$ will be used for computation.</i></center><br>\n",
    "</div>"
   ]
  },
  {
   "cell_type": "markdown",
   "id": "98306c8e",
   "metadata": {},
   "source": [
    "In the figure above, we can see all three possibilities. We will use the two first ones to use as our $\\{\\ket{0}, \\ket{1}\\}$ basis, while the last fusion scheme will be discarded. For completeness, we assign to it the state $\\ket{NC}$, for *Non-Computational* state. So we have to make sure that the quantum gates acting on a state $\\ket{\\psi} = \\alpha\\ket{0} + \\beta\\ket{1}$ give a state $\\ket{\\psi'} = \\alpha'\\ket{0} + \\beta'\\ket{1}$ which does not involve $\\ket{NC}$."
   ]
  },
  {
   "cell_type": "markdown",
   "id": "c4665156",
   "metadata": {},
   "source": [
    "#### Exercise 2\n",
    "Show how to prepare the state $\\ket{0}$ using the fusion rules, and knowing that we can create anyon pairs from the vacuum."
   ]
  },
  {
   "cell_type": "markdown",
   "id": "28ce632e",
   "metadata": {},
   "source": [
    "#### Solution 2 (to be hidden)\n",
    "1. Create two pairs of anyons from the vacuum, $0 \\rightarrow (1,1)$, $0 \\rightarrow (1,1)$.\n",
    "1. Discard one of the anyons from the second pair: $(1, 1)$, $(1)$.\n",
    "\n",
    "The first pair will fuse into the vacuum $(0)$ (charge conservation), and the vacuum will fuse with the third anyon $(1)$ into an anyon. (2nd and 3rd fusion rules).<br> Giving us the fusion sequence:\n",
    "$$(1 \\times 1) \\times 1 = 0 \\times 1 = 1,$$ which is the state $\\ket{0}$, as described in the figure above."
   ]
  },
  {
   "cell_type": "markdown",
   "id": "dd17b688",
   "metadata": {},
   "source": [
    "And there we have it! A topological qubit encoded using Fibonacci anyons, which can be prepared in a desired state."
   ]
  },
  {
   "cell_type": "markdown",
   "id": "9a8c21da",
   "metadata": {},
   "source": [
    "## Braiding"
   ]
  },
  {
   "cell_type": "markdown",
   "id": "eb5e67f9",
   "metadata": {},
   "source": [
    "Initializing qubits to a desired state is one of DiVincenzo's criteria that are necessary to build a quantum computer, but it's not enough to just initialize qubits and measure them. We need to be able to operate on these qubits using quantum gates.\n",
    "\n",
    "Recall that quantum gates, just like classical logic gates with bits, act on qubits to change their states in a meaningful way. We have already seen that exchanging anyons changes the overal state of their system. Let's visualize how anyon exchanges happen in space-time, that is, what's the trail that anyons undergoing a series of exchanges leave behind in the $xt$-plane, where $x$ is the position, and $t$ is time."
   ]
  },
  {
   "cell_type": "markdown",
   "id": "47081d1d",
   "metadata": {},
   "source": [
    "![](images/braiding.gif \"Braiding anyons\")\n",
    "<center><i><b>Figure 9</b> In this animation, we're exchanging three anyons in the $xy$-plane. Time evolution of the positions is from left to right.</i></center><br>"
   ]
  },
  {
   "cell_type": "markdown",
   "id": "1e42bbba",
   "metadata": {},
   "source": [
    "We can observe that exchanging anyons forms a ***braid*** in space-time, thus the term *braiding* anyons, which we will use from now on instead of *exchanging* anyons.\n",
    "\n",
    "At this point, we need to explicitly define what we call the ***braiding operators***: these are the operators (matrices) that act on the the states $\\ket{0}$ and $\\ket{1}$ when we exchange two of the three anyons that constitute the topological qubit. The idea being that we can apply multiple braiding operators on a qubit to get it into a desired final state, such as a superposition state $\\ket{\\psi} = \\frac{1}{\\sqrt{2}}(\\ket{0} + \\ket{1})$. The sequence of braiding operators we would apply to get the state $\\ket{\\psi}$ would then be equivalent to a Hadamard gate, in this example.\n",
    "\n",
    "These braiding operators, which will be denoted by $\\sigma$, and how they're used to approximate quantum gates will be discussed in the next notebook."
   ]
  },
  {
   "cell_type": "markdown",
   "id": "c63b711a",
   "metadata": {},
   "source": [
    "### F and R matrices"
   ]
  },
  {
   "cell_type": "markdown",
   "id": "768698ac",
   "metadata": {},
   "source": [
    "In **Fig. 8**, we have seen that we fuse anyons from left to right, by convention. But what if we wanted to do it from right to left? How would this affect the outcome?<br>\n",
    "The effect of changing the fusion process is given by the $F$ matrix, which relates both fusion processes. This mirroring of the fusion process is called the ***F move***."
   ]
  },
  {
   "cell_type": "markdown",
   "id": "1ca94f16",
   "metadata": {},
   "source": [
    "<div>\n",
    "    <img src=\"images/F_matrix.png\" width=\"550\"/><br>\n",
    "    <center style=\"margin-right: 120px; margin-left: 120px;\"><i><b>Figure 10</b> Using the $F$ matrix, we can express the left-to-right fusion in terms of right-to-left fusions. $i$ and $j$, which are the intermediate anyons in both fusions, are also the row and column indices of $F$, respectively.</i></center><br>\n",
    "</div> "
   ]
  },
  {
   "cell_type": "markdown",
   "id": "97af3a2b",
   "metadata": {},
   "source": [
    "Given the intermediate charges $i$ and $j$, we can compute the effect of mirroring the fusion process, using the $F$ matrix, which is given as\n",
    "\n",
    "$$F = \\mymatrix{cc}{ \\frac{1}{\\Phi} & \\frac{1}{\\sqrt{\\Phi}} \\\\ \\frac{1}{\\sqrt{\\Phi}} & -\\frac{1}{\\Phi} }$$\n",
    "\n",
    "Where $\\Phi$ is the golden number, which satisfies\n",
    "\n",
    "$$\\Phi^2 - \\Phi = 1$$\n",
    "\n",
    "And is given by\n",
    "\n",
    "$$\\Phi = \\frac{1 + \\sqrt(5)}{2}$$\n",
    "\n",
    "The computation in **Fig. 10** is done by fixing the value of $i$ to either $0$ or $1$, then summing over all possible values of $j$, which are also $0$ or $1$."
   ]
  },
  {
   "cell_type": "markdown",
   "id": "8cc9e74e",
   "metadata": {},
   "source": [
    " #### Exercise 3"
   ]
  },
  {
   "cell_type": "markdown",
   "id": "79f920d9",
   "metadata": {},
   "source": [
    " Express the states $\\ket{0}$ and $\\ket{1}$, as described in **Fig. 8**, in terms of right-to-left fusions, using the $F$ matrix."
   ]
  },
  {
   "cell_type": "markdown",
   "id": "65cd93fb",
   "metadata": {},
   "source": [
    "#### Solution 3 (to be hidden)"
   ]
  },
  {
   "cell_type": "markdown",
   "id": "7c682a4e",
   "metadata": {},
   "source": [
    "**The state $\\ket{0}$**<br>\n",
    "For this basis state, $i = 0$. So the equation in **Fig. 10** becomes\n",
    "\n",
    "$$\\ket{0} = \\Sigma_j F^0_j \\ket{j} $$\n",
    "\n",
    "where $\\ket{0}$ and $\\ket{j}$ are respectively the diagrams on the lefthand side and the righthand side of the equation. Expanding the sum gives\n",
    "\n",
    "$$\\ket{0} = F^0_0 \\ket{j=0} + F^0_1 \\ket{j=1} $$\n",
    "\n",
    "$$\\ket{0} = \\frac{1}{\\Phi} \\ket{j=0} + \\frac{1}{\\sqrt{\\Phi}} \\ket{j=1}. $$\n",
    "\n",
    "**The state $\\ket{1}$**<br>\n",
    "Doing the same as previously, we get\n",
    "\n",
    "$$\\ket{1} = \\frac{1}{\\sqrt{\\Phi}} \\ket{j=0} - \\frac{1}{\\Phi} \\ket{j=1}. $$\n",
    "\n"
   ]
  },
  {
   "cell_type": "markdown",
   "id": "e2754441",
   "metadata": {},
   "source": [
    " #### Exercise 4"
   ]
  },
  {
   "cell_type": "markdown",
   "id": "493b2ef8",
   "metadata": {},
   "source": [
    "Show that the states $\\ket{j}$, represented by the righthand side diagram in **Fig. 10**, are orthogonal to eachother. That is, $\\braket{j}{j'} = 0$ if $j' \\neq j$. We will consider $\\braket{j}{j} = 1$."
   ]
  },
  {
   "cell_type": "markdown",
   "id": "7cb067cc",
   "metadata": {},
   "source": [
    " #### Solution 4"
   ]
  },
  {
   "cell_type": "markdown",
   "id": "9a8618b2",
   "metadata": {},
   "source": [
    "We already know that\n",
    "\n",
    "$$\\braket{0}{0} = 1,$$\n",
    "$$\\braket{1}{1} = 1,$$\n",
    "$$\\braket{0}{1} = 0.$$\n",
    "\n",
    "Using the expressions for $\\ket{0}$ and $\\ket{1}$ from **exercise 3**,\n",
    "\n",
    "$$\\braket{0}{1} = (\\frac{1}{\\Phi} \\bra{j=0} + \\frac{1}{\\sqrt{\\Phi}} \\bra{j=1})(\\frac{1}{\\sqrt{\\Phi}} \\ket{j=0} - \\frac{1}{\\Phi} \\ket{j=1}) = 0$$\n",
    "\n",
    "$$\\frac{1}{\\sqrt{\\Phi}}\\braket{j=0}{j=0} - \\frac{1}{\\Phi}\\braket{j=0}{j=1} + \\braket{j=1}{j=0} - \\frac{1}{\\sqrt{\\Phi}}\\braket{j=1}{j=1} = 0$$\n",
    "\n",
    "Using $\\braket{j=0}{j=0} = \\braket{j=1}{j=1} = 1$, we get\n",
    "\n",
    "$$- \\frac{1}{\\Phi}\\braket{j=0}{j=1} + \\braket{j=1}{j=0}= 0$$\n",
    "\n",
    "$$- \\frac{1}{\\Phi}\\braket{j=0}{j=1} + \\braket{j=0}{j=1}^*= 0$$\n",
    "\n",
    "Solving this last equation for the real and imaginary parts, we get\n",
    "\n",
    "$$ real(\\braket{j=0}{j=1}) = real(\\braket{j=0}{j=1}^*)= 0$$\n",
    "\n",
    "$$ im(\\braket{j=0}{j=1}) = -im(\\braket{j=0}{j=1}^*)= 0$$\n",
    "\n",
    "Therefor,\n",
    "\n",
    "$$\\braket{j=1}{j=0} = \\braket{j=0}{j=1}= 0$$"
   ]
  },
  {
   "cell_type": "markdown",
   "id": "6c5d59ab",
   "metadata": {},
   "source": [
    "In a addition to the *F move*, we also have the ***R move***, which is simply the **clockwise** exchange of the left most anyons before their fusion."
   ]
  },
  {
   "cell_type": "markdown",
   "id": "f672cae8",
   "metadata": {},
   "source": [
    "<div>\n",
    "    <img src=\"images/R_matrix.png\" width=\"350\"/><br>\n",
    "    <center style=\"margin-right: 120px; margin-left: 120px;\"><i><b>Figure 11</b> $R$ is a diagonal matrix which relates the state with the R move to the state without the R move. The subscript $c$ is the index of the diagonal elements of $R$.</i></center><br>\n",
    "</div>  "
   ]
  },
  {
   "cell_type": "markdown",
   "id": "9825ec94",
   "metadata": {},
   "source": [
    "The matrix $R$ is given as\n",
    "\n",
    "$$R = \\mymatrix{cc}{e^{-\\frac{4i \\pi}{5}} & 0 \\\\ 0 & e^{\\frac{3i \\pi}{5}}}$$\n",
    "\n",
    "The counterclockwise exchange will then be given by $R^{-1}$.\n",
    "\n",
    "If we recall the definition of the braiding operator, we can immediately notice that $R$ represents a clockwise braiding operator of 2 anyons!\n",
    "\n",
    "Since in TQC, computation is performed by braiding anyons, and thus by braiding operators, the $F$ and $R$ matrices will only be necessary to us as tools to construct these operators.<br>\n",
    "We will get to use them in the next notebook, where we will delve deeper into braiding and making computations with anyons."
   ]
  },
  {
   "cell_type": "markdown",
   "id": "15c262df",
   "metadata": {},
   "source": [
    " ### References\n",
    " * Jiannis K . Pachos. Introduction to Topological Quantum Computation, Cambridge University Press, 2012.\n",
    " * Alberto Lerda. Anyons : quantum mechanics of particles with fractional statistics, Springer-Verlag, 1992.\n",
    " * M T Rouabah, N E Belaloui, and A Tounsi. Compiling single-qubit braiding gate for Fibonacci anyons topological quantum computation,  Journal of Physics: Conference Series, Volume 1766."
   ]
  },
  {
   "cell_type": "markdown",
   "id": "b55052f9",
   "metadata": {},
   "source": [
    " \n",
    " "
   ]
  }
 ],
 "metadata": {
  "kernelspec": {
   "display_name": "Python 3 (ipykernel)",
   "language": "python",
   "name": "python3"
  },
  "language_info": {
   "codemirror_mode": {
    "name": "ipython",
    "version": 3
   },
   "file_extension": ".py",
   "mimetype": "text/x-python",
   "name": "python",
   "nbconvert_exporter": "python",
   "pygments_lexer": "ipython3",
   "version": "3.8.13"
  }
 },
 "nbformat": 4,
 "nbformat_minor": 5
}
