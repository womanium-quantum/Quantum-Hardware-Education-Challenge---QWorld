{
 "cells": [
  {
   "cell_type": "markdown",
   "id": "1bb64f85-5e1b-4469-972a-b7a405630080",
   "metadata": {
    "tags": []
   },
   "source": [
    "# Introduction to quantum computing"
   ]
  },
  {
   "cell_type": "markdown",
   "id": "d39ad4cc-b6af-434c-986c-38e5de35e0bc",
   "metadata": {},
   "source": [
    "<table width=\"100%\"><tr><td style=\"color:#bbbbbb;background-color:#ffffff;font-size:11px;font-style:italic;text-align:right;\">LaTeX Macros. </td></tr></table>\n",
    "$ \\newcommand{\\bra}[1]{\\langle #1|} $\n",
    "$ \\newcommand{\\ket}[1]{|#1\\rangle} $\n",
    "$ \\newcommand{\\braket}[2]{\\langle #1|#2\\rangle} $\n",
    "$ \\newcommand{\\dot}[2]{ #1 \\cdot #2} $\n",
    "$ \\newcommand{\\biginner}[2]{\\left\\langle #1,#2\\right\\rangle} $\n",
    "$ \\newcommand{\\mymatrix}[2]{\\left( \\begin{array}{#1} #2\\end{array} \\right)} $\n",
    "$ \\newcommand{\\myvector}[1]{\\mymatrix{c}{#1}} $\n",
    "$ \\newcommand{\\myrvector}[1]{\\mymatrix{r}{#1}} $\n",
    "$ \\newcommand{\\mypar}[1]{\\left( #1 \\right)} $\n",
    "$ \\newcommand{\\mybigpar}[1]{ \\Big( #1 \\Big)} $\n",
    "$ \\newcommand{\\sqrttwo}{\\frac{1}{\\sqrt{2}}} $\n",
    "$ \\newcommand{\\dsqrttwo}{\\dfrac{1}{\\sqrt{2}}} $\n",
    "$ \\newcommand{\\onehalf}{\\frac{1}{2}} $\n",
    "$ \\newcommand{\\donehalf}{\\dfrac{1}{2}} $\n",
    "$ \\newcommand{\\hadamard}{ \\mymatrix{rr}{ \\sqrttwo & \\sqrttwo \\\\ \\sqrttwo & -\\sqrttwo }} $\n",
    "$ \\newcommand{\\vzero}{\\myvector{1\\\\0}} $\n",
    "$ \\newcommand{\\vone}{\\myvector{0\\\\1}} $\n",
    "$ \\newcommand{\\stateplus}{\\myvector{ \\sqrttwo \\\\  \\sqrttwo } } $\n",
    "$ \\newcommand{\\stateminus}{ \\myrvector{ \\sqrttwo \\\\ -\\sqrttwo } } $\n",
    "$ \\newcommand{\\myarray}[2]{ \\begin{array}{#1}#2\\end{array}} $\n",
    "$ \\newcommand{\\X}{ \\mymatrix{cc}{0 & 1 \\\\ 1 & 0}  } $\n",
    "$ \\newcommand{\\Z}{ \\mymatrix{rr}{1 & 0 \\\\ 0 & -1}  } $\n",
    "$ \\newcommand{\\Htwo}{ \\mymatrix{rrrr}{ \\frac{1}{2} & \\frac{1}{2} & \\frac{1}{2} & \\frac{1}{2} \\\\ \\frac{1}{2} & -\\frac{1}{2} & \\frac{1}{2} & -\\frac{1}{2} \\\\ \\frac{1}{2} & \\frac{1}{2} & -\\frac{1}{2} & -\\frac{1}{2} \\\\ \\frac{1}{2} & -\\frac{1}{2} & -\\frac{1}{2} & \\frac{1}{2} } } $\n",
    "$ \\newcommand{\\CNOT}{ \\mymatrix{cccc}{1 & 0 & 0 & 0 \\\\ 0 & 1 & 0 & 0 \\\\ 0 & 0 & 0 & 1 \\\\ 0 & 0 & 1 & 0} } $\n",
    "$ \\newcommand{\\norm}[1]{ \\left\\lVert #1 \\right\\rVert } $\n",
    "$ \\newcommand{\\pstate}[1]{ \\lceil \\mspace{-1mu} #1 \\mspace{-1.5mu} \\rfloor } $"
   ]
  },
  {
   "cell_type": "markdown",
   "id": "057e14c3-8df8-4acd-bba8-b6d9c9907884",
   "metadata": {},
   "source": [
    "**<h3> Limitations of classical computers </h3>**"
   ]
  },
  {
   "cell_type": "markdown",
   "id": "b9b62ebf-4852-4c89-ac61-0ea28ef5f47d",
   "metadata": {},
   "source": [
    "Today in the computing world, innovations are leading to powerful miniaturized integrated circuits. In accordance with Moore’s law, chip capacity is doubled after every $18$\n",
    "months. Making chips smaller, as we approach $~10$ nm size, The Moore's law is no more valid.   Besides that, although the classical computers have become compact and fast, cannot solve complex problems in the speculated period of time. \n",
    "\n",
    "Currently, scientists are looking for a new solution employing the principles of quantum mechanics for building novel computers called **quantum computers**.\n",
    "\n",
    "The power of quantum computers promises to solve efficiently the most difficult\n",
    "problems in the theory of computational science such as **prime factorization of large integers** by implementing the so-called **Shor's algorithm**, or\n",
    "database search problems by using **Grover's algorithm**. These problems were proven to be difficult to solve by using the present classical computers.\n",
    "\n",
    "Let's see now the basic requirements to build a quantum computer.\n"
   ]
  },
  {
   "cell_type": "markdown",
   "id": "4ae6a6d4-2bdd-4b6f-99d4-700ada97ee3f",
   "metadata": {},
   "source": [
    "**<h3> Requirements for a physical quantum computer </h3>**"
   ]
  },
  {
   "cell_type": "markdown",
   "id": "8751d6eb-caaf-497d-8ae7-0ab939e0ab5f",
   "metadata": {},
   "source": [
    " Over twenty years ago, David DiVincenzo wrote an essay in which he gave a set of basic criteria for the physical realization of a quantum computer, known nowadays as **Divincenzo's criteria**. These criteria become the guiding principles for researchers trying to build quantum computers over the past two decades."
   ]
  },
  {
   "cell_type": "markdown",
   "id": "1831f44b-5b97-45bd-a7c2-f588ca2c75b8",
   "metadata": {},
   "source": [
    "**Divincenzo's criteria**"
   ]
  },
  {
   "cell_type": "markdown",
   "id": "9dbd9d95-7b52-4745-bb62-5c2127453cef",
   "metadata": {},
   "source": [
    "According to DiVincenzo's criteria, constructing a quantum computer requires that the experimental setup meet five conditions necessary for quantum computation:\n",
    "\n",
    "- A **scalable** physical system with well-characterized qubit\n",
    "- The ability to **initialize** the state of the qubits to a simple fiducial state\n",
    "- Long relevant **decoherence times**\n",
    "- A **universal** set of quantum gates\n",
    "- A qubit-specific **measurement** capability\n"
   ]
  },
  {
   "cell_type": "markdown",
   "id": "16fac51c-898f-475b-9e8d-8d7cc34e90d6",
   "metadata": {},
   "source": [
    "There have been many proposals for how to construct a quantum computer, all of which meet with varying degrees of success against the different challenges of constructing quantum devices. Some of these proposals involve using **superconducting qubits**, **trapped ions**, **semiconductor qubits**, or **topological qubits**,etc.. all of which show good prospects but also have issues that prevent their practical implementation."
   ]
  },
  {
   "cell_type": "markdown",
   "id": "cc56ef35-1195-4b76-a8ff-054d748db7c9",
   "metadata": {},
   "source": [
    "But first, let's take a deeper look on some general concepts mentioned in the previous criteria."
   ]
  },
  {
   "cell_type": "markdown",
   "id": "42dd608d-a053-4ca4-a587-61bea134e9a4",
   "metadata": {},
   "source": [
    "**Scalability with well-characterised qubits**"
   ]
  },
  {
   "cell_type": "markdown",
   "id": "704d915b-ff2c-41f0-af6d-9c21b91b2198",
   "metadata": {},
   "source": [
    "A quantum computer requires the use of a set of inter-connected physical qubits, which can be defined quantm mechanically as quantum two-level systems with a 'defined' energy gap, with two basis states: **grounded and excited states**. They consist the unit of information in analogy with bits in classicla computing. Whatever the physical system we choose (superconductors, solid-state, cold atoms,..), **we require that the system remains almost always in the subspace of these two levels**.\n",
    "\n",
    "In the following, we will write the two physical qubit states as $ \\ket{0} $ for grounded state and $\\ket{1} $ for excited state. \n",
    "\n",
    "Remember that when we have a two-qubit system, then we can represent its states as  $\\ket{00}$,$\\ket{01}$,$\\ket{10}$, $\\ket{11}$.\n",
    "\n",
    "**Reminder:** \n",
    "\n",
    "The state $ \\ket{ab} $ means that \n",
    "<ul>\n",
    "    <li>the first qubit is in state $ \\ket{a} $ and </li>\n",
    "    <li> the second qubit is in state $ \\ket{b} $, </li>\n",
    "</ul>\n",
    "where $ a,b \\in \\{0,1\\} $.\n",
    "\n",
    "$ \\ket{ab} = \\ket{a} \\otimes \\ket{b} $ (or shortly $\\ket{a}\\ket{b}$."
   ]
  },
  {
   "cell_type": "markdown",
   "id": "74e38365-80ca-4c33-ac4e-05f3c24414d2",
   "metadata": {},
   "source": [
    "**Universal quantum gates**"
   ]
  },
  {
   "cell_type": "markdown",
   "id": "76ffe4ff-0fa2-4bcd-bada-c420b7666df5",
   "metadata": {},
   "source": [
    "A universal quantum computer  can be constructed using a very small set of one- and two-qubit gates. \n",
    "\n",
    "Any physical experimental setup that manages to have well-characterised qubits; must also **be capable of influencing the Hamiltonian (total energy) of the system**, in order to effect **coherent** changes capable of implementing a **universal set of gates**. \n",
    "\n",
    "Later, we will see in details how to implement physically some quantum gates in a topological quantum computer using anyons.  \n",
    "\n",
    "The Solovay-Kitaev theorem implies that a complete set of gates to build a quantum computer comprises the single-qubit operators(gates) $\\hat{I}$,$\\hat{X}$, $\\hat{Z}$, the Hadamard gate $\\hat{H}$, the $\\hat{S}$ and $\\hat{T}$ gates. \n",
    "\n",
    "A **two-qubit entangling gate** is also needed, which is usually chosen to be the **CNOT gate**.\n"
   ]
  },
  {
   "cell_type": "markdown",
   "id": "debf23cf-0352-41c2-a592-20a7aad83bdf",
   "metadata": {},
   "source": [
    "\n",
    "**Reminder:**\n",
    "\n",
    "The most important **single qubit operators**(gates) are most easily represented by matrices, given here in the Z basis ($\\ket{0} $, $\\ket{1}$) for completeness:\n",
    "$$ \\hat{I} = \\mymatrix{rr}{1 & 0\\\\ 0 & 1 } $$\n",
    "\n",
    "$$ \\hat{X} = \\mymatrix{rr}{0 & 1\\\\ 1 & 0} $$\n",
    "\n",
    "$$ \\hat{Y} = \\mymatrix{rr}{0 & -i\\\\ i& 0 } $$\n",
    "\n",
    "$$ \\hat{Z} = \\mymatrix{rr}{1 & 0\\\\ 0 & -1 } $$\n",
    "\n",
    "The **Hadamard operator**, used in general to project the grouded state into a superposition of states, is defined by:\n",
    "$$ \\hat{H} = \\frac{1}{\\sqrt2}\\mymatrix{rr}{1 &1\\\\ 1 & -1 } $$\n",
    "\n",
    "In addition, there are other fundamental 1-qubit gates to mention: \n",
    "- The $\\hat{S}$ gate (also called the π/4 gate). \n",
    "- The $\\hat{T}$ gate (also called the π/8 gate).\n",
    "\n",
    "Using the canonical two-qubit basis ($\\ket{00}$,$\\ket{01}$,$\\ket{10}$, $\\ket{11}$), the matrix representation of the **CNOT gate** is: \n",
    "\n",
    "$$ CNOT = \\mymatrix{rr}{1 & 0 &0 &0 \\\\ 0 & 1& 0&0 \\\\ 0&0&0&1\\\\ 0&0 &1 & 0 } $$\n",
    "\n",
    "\n",
    "\n",
    "\n"
   ]
  },
  {
   "cell_type": "markdown",
   "id": "eba0edc3-5a6f-4dab-a904-4c27ab5353f9",
   "metadata": {},
   "source": [
    "**Reminder** \n",
    "\n",
    "Products of operators appear frequently. The order of a product matters, as in general\n",
    "$AB \\neq BA$ when dealing with operators (i.e. matrices). \n",
    "\n",
    "If $AB = BA$, then $A$ and$ B$ are said to commute:\n",
    "$[A, B] = AB − BA = 0 $, \n",
    "\n",
    "where $[A,B]$ is the commutator of $A$ and $B$.\n",
    "\n",
    "Qubit gates **operating on the same qubit $a$ in general do not commute**. The identity $\\ket{I}$ commutes with all operators.\n",
    "\n",
    "However, you can easily show by multiplying the matrices for $X_a$ and $Z_a$ that: \n",
    "$$X_aZ_a=-Z_aX_a$$\n"
   ]
  },
  {
   "cell_type": "markdown",
   "id": "a329c653-d646-4a70-848a-2f4e3c5cccf6",
   "metadata": {
    "jp-MarkdownHeadingCollapsed": true,
    "tags": []
   },
   "source": [
    "<h3> Task1 </h3>\n",
    "\n",
    "Calculate the commutator of $X$ and $Z$ operating on a same qubit. (On paper) "
   ]
  },
  {
   "cell_type": "markdown",
   "id": "7c2f2ac4-6e72-4c21-a777-c2bd7e007367",
   "metadata": {},
   "source": [
    "<h3> Solution </h3>\n",
    "\n",
    "The commutator of $Z$ and $X$ operating on the same qubit $a$.  \n",
    "$$[X_a,Z_a] = X_aZ_a − Z_aX_a = 2X_aZ_a = −2Z_aX_a$$\n"
   ]
  },
  {
   "cell_type": "markdown",
   "id": "f3a0be5b-18c7-45da-a3f4-8a2cd68922f1",
   "metadata": {},
   "source": [
    " Now if we consider two qubits $a$ and $b$, with their $X$ and $Z$ operators $X_a$, $X_b$, and $Z_a$, $Z_b$, respectively. \n",
    "\n",
    "As shown before, $X_a$ and $Z_a$ do not commute, the same goes for $X_b$ and $Z_b$ .However, operators on different qubits always commute: for instance, $X_a$ and $Z_b$ commute. \n",
    "\n",
    "A surprising fact is that the product of the operators $X_aX_b$ commutes with the product of operators $Z_aZ_b$. This property will be used later on. \n",
    "\n"
   ]
  },
  {
   "cell_type": "markdown",
   "id": "303f8c62-1cc9-4ff2-a19d-920e1ba2055e",
   "metadata": {},
   "source": [
    "### Task2\n",
    "\n",
    "Verify mathematically that product of operators on different qubits always commute. "
   ]
  },
  {
   "cell_type": "markdown",
   "id": "94e4cb92-5dff-44a7-825d-a10a8c7bde31",
   "metadata": {},
   "source": [
    "<h3> Solution </h3>\n",
    "\n",
    "$$\n",
    "\\begin{aligned}\n",
    "X_aX_bZ_aZ_b = X_aZ_aX_bZ_b = (−Z_aX_a)(−Z_bX_b)\\\\\n",
    "= Z_aX_aZ_bX_b = Z_aZ_bX_aX_b\n",
    "\\end{aligned}\n",
    "$$\n",
    "\n",
    "Therefore, $$[X_aX_b, Z_aZ_b] = 0$$"
   ]
  },
  {
   "cell_type": "markdown",
   "id": "e378ccb8-fe4e-48a9-8651-527f5141bd0d",
   "metadata": {},
   "source": [
    "**Measurements**"
   ]
  },
  {
   "cell_type": "markdown",
   "id": "72827a12-c107-4185-a454-19f477697939",
   "metadata": {},
   "source": [
    " For any process modifying the quantum states of qubits, the final measurement of those states is of fundamental importance when performing computations.\n",
    " \n",
    " In quantum mechanics, remember that any measurement of an operator projects the qubit onto an eigenstate of the measurement operator. In other words, after measuring any quantum state it collapses. "
   ]
  },
  {
   "cell_type": "markdown",
   "id": "0fcbeb36-cd66-473f-a9d3-19cce815e693",
   "metadata": {},
   "source": [
    "**Quantum decoherence** "
   ]
  },
  {
   "cell_type": "markdown",
   "id": "97ca84d9-94ca-4efd-820d-ef7cfe99e087",
   "metadata": {},
   "source": [
    "In the conventional picture of a quantum computer, we imagine a bunch of two state systems: electron spins, anyons, atoms... which can act as qubits. Now during our computation, if some noise, say a photon, or a phonon, enters the system and interacts with a qubit, it can cause a decoherence of the qubit, meaning it can change **locally** the state of the qubit.\n",
    "\n",
    "Using Bloch sphere representation, the qubit is initially in the $\\ket{+}$ state, then it decoheres over time and changes into an 'unwanted' state.\n",
    "\n",
    "<img src=\"images/real_decoherence_BS.gif\" align=\"center\" > \n",
    "\n",
    "Let's look to a prominent example of a physical qubit system: The spin of an electron, which is a small magnet carried by the electron. The two eigenstates of the spin would be in this case: $\\ket{↓}$ (spin down, which can be seen as our $\\ket{0}$ state) and $\\ket{↑}$ (spin up, which can be seen as our $\\ket{1}$ state).\n",
    "\n",
    "<img src=\"images/Spin-decoherence.PNG\" width=\"400\" align=\"center\" > \n",
    "\n",
    "Decoherence in this case, refers to transitions from a superposition of $\\ket{↓}$ and $\\ket{↑}$ → either $\\ket{↓}$ or $\\ket{↑}$, and is translated by a loss of the relative phase information over time.\n",
    "\n",
    "\n",
    "The following video link gives an interesting animation of superposition and decoherence of quantum states in an atom as an example:\n",
    "\n",
    "https://commons.wikimedia.org/wiki/File:Quantum_superposition_of_states_and_decoherence.ogv\n",
    "\n",
    "Long decoherence times are desired, much longer than the average gate time in a quantum circuit, so that decoherence can be can be overcome by the techniques of quantum error-correction and fault-tolerant quantum computation. \n"
   ]
  },
  {
   "cell_type": "markdown",
   "id": "1c22ac45-ac6d-494a-8d49-53a3bf3e02d4",
   "metadata": {},
   "source": [
    "Specifically, topological quantum computation has been seen as a promising scheme for realizing a quantum computer with **robust qubits**, based on two-dimensional quasiparticles called **anyons**. These quasiparticles are demonstrated to be robust against **local perturbations** due to the underlying **topological nature of quantum orders**."
   ]
  },
  {
   "cell_type": "markdown",
   "id": "37694f2f-47fc-4931-a235-1f43cd371bca",
   "metadata": {},
   "source": [
    "Later on, we will focus on **topological quantum computing TQC** as a promising field for many reasons. We will verify throughout those notebooks, how topological quantum computing satisfies largly the Divencenzo's criteria. "
   ]
  },
  {
   "cell_type": "markdown",
   "id": "508bf13b-c117-47e8-8e78-71f423b20e76",
   "metadata": {},
   "source": [
    "**Fault tolerant quantum computation vs quantum error correction** "
   ]
  },
  {
   "cell_type": "markdown",
   "id": "232aa6b7-992b-4e98-a958-10acaed3d501",
   "metadata": {},
   "source": [
    "Building a quantum computer or a quantum communications device in the real world means having to deal with errors. Any qubit stored unprotected or one transmitted through a communication channel will inevitably come out at least slightly changed.\n",
    "\n",
    "The theory of quantum error-correcting codes has been developed to counteract noise andcorrect errors if detected. By adding **extra qubits** and carefully encoding the quantum state we wish to protect, a quantum system can be insulated to great extent against errors.\n",
    "\n",
    "But in principle, not only the qubits can be imperfect but also quantum gates used to perform quantum operations, everything we do will add to the error and will propagate along the quantum system. Here comes the theory of fault-tolerant quantum computation, which tells us that there exists a **physical error probability** $p_c$ below which an arbitrary quantum computation can be performed efficiently.\n",
    "\n",
    "In the case of **TQC**, the computation on anyons, where the quantum information is stored, are fault-tolerant by its physical nature, which is a nice property for building a scalable quantum computer.\n"
   ]
  },
  {
   "cell_type": "markdown",
   "id": "5e99ffad-952d-4aa4-9345-018d1e7c3011",
   "metadata": {},
   "source": [
    "**References**: \n",
    "- Barde, Nilesh & THAKUR, Deepak & Bardapurkar, Pranav & Dalvi, Sanjaykumar. (2011). Consequences and Limitations of Conventional Computers and their Solutions through Quantum Computers. Leonardo Electronic Journal of Practices and Technologies. 10. 161-171.\n",
    "- https://www.quantiki.org/wiki/quantum-error-correction-and-fault-tolerance-0\n",
    "- https://ocw.tudelft.nl/wp-content/uploads/QIP3_divincenzo_criteria.pdf\n",
    "-Prospects for Spin-Based Quantum Computing:https://doi.org/10.48550/arXiv.1204.5917"
   ]
  }
 ],
 "metadata": {
  "kernelspec": {
   "display_name": "Python 3 (ipykernel)",
   "language": "python",
   "name": "python3"
  },
  "language_info": {
   "codemirror_mode": {
    "name": "ipython",
    "version": 3
   },
   "file_extension": ".py",
   "mimetype": "text/x-python",
   "name": "python",
   "nbconvert_exporter": "python",
   "pygments_lexer": "ipython3",
   "version": "3.8.13"
  },
  "widgets": {
   "application/vnd.jupyter.widget-state+json": {
    "state": {},
    "version_major": 2,
    "version_minor": 0
   }
  }
 },
 "nbformat": 4,
 "nbformat_minor": 5
}
