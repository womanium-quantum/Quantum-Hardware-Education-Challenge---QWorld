{
 "cells": [
  {
   "cell_type": "markdown",
   "id": "74ab8de1-a6cf-4c5c-8ee4-a76eb0b70e45",
   "metadata": {
    "tags": []
   },
   "source": [
    "# Introduction to Quantum error correction"
   ]
  },
  {
   "cell_type": "markdown",
   "id": "4c5cde71",
   "metadata": {},
   "source": [
    "<table width=\"100%\"><tr><td style=\"color:#bbbbbb;background-color:#ffffff;font-size:11px;font-style:italic;text-align:right;\">LaTeX Macros. </td></tr></table>\n",
    "$ \\newcommand{\\bra}[1]{\\langle #1|} $\n",
    "$ \\newcommand{\\ket}[1]{|#1\\rangle} $\n",
    "$ \\newcommand{\\braket}[2]{\\langle #1|#2\\rangle} $\n",
    "$ \\newcommand{\\dot}[2]{ #1 \\cdot #2} $\n",
    "$ \\newcommand{\\biginner}[2]{\\left\\langle #1,#2\\right\\rangle} $\n",
    "$ \\newcommand{\\mymatrix}[2]{\\left( \\begin{array}{#1} #2\\end{array} \\right)} $\n",
    "$ \\newcommand{\\myvector}[1]{\\mymatrix{c}{#1}} $\n",
    "$ \\newcommand{\\myrvector}[1]{\\mymatrix{r}{#1}} $\n",
    "$ \\newcommand{\\mypar}[1]{\\left( #1 \\right)} $\n",
    "$ \\newcommand{\\mybigpar}[1]{ \\Big( #1 \\Big)} $\n",
    "$ \\newcommand{\\sqrttwo}{\\frac{1}{\\sqrt{2}}} $\n",
    "$ \\newcommand{\\dsqrttwo}{\\dfrac{1}{\\sqrt{2}}} $\n",
    "$ \\newcommand{\\onehalf}{\\frac{1}{2}} $\n",
    "$ \\newcommand{\\donehalf}{\\dfrac{1}{2}} $\n",
    "$ \\newcommand{\\hadamard}{ \\mymatrix{rr}{ \\sqrttwo & \\sqrttwo \\\\ \\sqrttwo & -\\sqrttwo }} $\n",
    "$ \\newcommand{\\vzero}{\\myvector{1\\\\0}} $\n",
    "$ \\newcommand{\\vone}{\\myvector{0\\\\1}} $\n",
    "$ \\newcommand{\\stateplus}{\\myvector{ \\sqrttwo \\\\  \\sqrttwo } } $\n",
    "$ \\newcommand{\\stateminus}{ \\myrvector{ \\sqrttwo \\\\ -\\sqrttwo } } $\n",
    "$ \\newcommand{\\myarray}[2]{ \\begin{array}{#1}#2\\end{array}} $\n",
    "$ \\newcommand{\\X}{ \\mymatrix{cc}{0 & 1 \\\\ 1 & 0}  } $\n",
    "$ \\newcommand{\\Z}{ \\mymatrix{rr}{1 & 0 \\\\ 0 & -1}  } $\n",
    "$ \\newcommand{\\Htwo}{ \\mymatrix{rrrr}{ \\frac{1}{2} & \\frac{1}{2} & \\frac{1}{2} & \\frac{1}{2} \\\\ \\frac{1}{2} & -\\frac{1}{2} & \\frac{1}{2} & -\\frac{1}{2} \\\\ \\frac{1}{2} & \\frac{1}{2} & -\\frac{1}{2} & -\\frac{1}{2} \\\\ \\frac{1}{2} & -\\frac{1}{2} & -\\frac{1}{2} & \\frac{1}{2} } } $\n",
    "$ \\newcommand{\\CNOT}{ \\mymatrix{cccc}{1 & 0 & 0 & 0 \\\\ 0 & 1 & 0 & 0 \\\\ 0 & 0 & 0 & 1 \\\\ 0 & 0 & 1 & 0} } $\n",
    "$ \\newcommand{\\norm}[1]{ \\left\\lVert #1 \\right\\rVert } $\n",
    "$ \\newcommand{\\pstate}[1]{ \\lceil \\mspace{-1mu} #1 \\mspace{-1.5mu} \\rfloor } $"
   ]
  },
  {
   "cell_type": "markdown",
   "id": "5b3d12f3-1e0d-4d15-bb4d-671d52ce5a06",
   "metadata": {},
   "source": [
    "## Classical error correction vs quantum error correction"
   ]
  },
  {
   "cell_type": "markdown",
   "id": "9d761b99-826f-4cb7-89d1-21022cf41420",
   "metadata": {},
   "source": [
    "### Classical error correction"
   ]
  },
  {
   "cell_type": "markdown",
   "id": "c50ec1b9-effe-4bc6-9584-9bde6a68278c",
   "metadata": {},
   "source": [
    "Classical information technologies employ binary encodings in which data is represented as sequences of bits **‘0’** or **‘1’**. The basic principle behind error correction is that the\n",
    "number of bits used to encode a given amount of information is increased. The exact way in which this redundant encoding is achieved is specified as error correction code.\n",
    "The simplest example of an **error correction code** is the **three-bit repetition code**, the encoder for which duplicates each bit value 0 → 000 and 1 → 111.\n",
    "\n"
   ]
  },
  {
   "cell_type": "markdown",
   "id": "464b8c99-5999-483a-960b-7b1f1477e2a8",
   "metadata": {
    "tags": []
   },
   "source": [
    "\n",
    "**<h3> Three bit repetition code </h3>**"
   ]
  },
  {
   "cell_type": "markdown",
   "id": "39b073e4-28fa-44ed-bc5a-ff20a3652650",
   "metadata": {},
   "source": [
    "We have two parties: Asja and Balvis. They are going to commnicate with one another through a classical communication channel, where Asja sends 0's and 1's using a binary coding. Assume that this channel is noisy in such a way that **0 can be flipped to 1 and vice versa**, randomly. "
   ]
  },
  {
   "cell_type": "markdown",
   "id": "83b6596a-d6bf-4395-b040-c07c0cd0d76c",
   "metadata": {},
   "source": [
    "In this case, we will take some assumptions for simplification: \n",
    "- We consider only the errors causing bit flips. \n",
    "- We assume that the communication channel is binary symmetric, meaning that if **p is the probability that an error causes 1→0**, **0→1** can occur with the same probability p. **The probability of no error is then 1-p**.\n",
    "Note that real classical hardware may not respect this simplification."
   ]
  },
  {
   "cell_type": "markdown",
   "id": "6855e732-5840-4119-80b5-b9900c21293d",
   "metadata": {},
   "source": [
    "Asja wants to minimise the error communication by using repetition code. For this, Asja needs to encode each bit of information into an odd number of bits, let's take in our case **three transmission bits**, so 0 → 000 and 1 → 111."
   ]
  },
  {
   "cell_type": "markdown",
   "id": "e2a55821-8758-40ec-9bdf-c45aa732b19c",
   "metadata": {},
   "source": [
    "We can imagine many scenarios: One outcome is that none of the bits suffers an error; another possibility is that one bit suffers an error; or two suffer errors, or all three do."
   ]
  },
  {
   "cell_type": "markdown",
   "id": "ae5a6672-6d00-413e-b302-c934fd929f21",
   "metadata": {
    "tags": []
   },
   "source": [
    "#### Task1\n",
    "We want to write the probabilities for each of these outcomes, assuming the errors are all independent, then calculate them for p=0.01. (On paper)\n",
    "\n",
    "<mark>Remember that p is the probability for one bit flip error to occur.<mark>"
   ]
  },
  {
   "cell_type": "markdown",
   "id": "00e61e63-1073-4bca-87e4-d587a50c5c5b",
   "metadata": {},
   "source": [
    "#### Solution"
   ]
  },
  {
   "cell_type": "markdown",
   "id": "22550d59-12b7-4b33-af4e-5392ed7fc223",
   "metadata": {},
   "source": [
    "If the probability for one bit to suffer an error is p, then the probability that no bit suffers no error is $(1−p)^3$. The probability that all three bits have errors is $p^3$\n",
    "; and the probability for one bit or two bits to have errors is $3(1 − p)^2p$ and $ 3(1 − p)p^2$,\n",
    "respectively (the factor of 3 because there are three places the error or non-error can occur\n",
    "among the three bits).\n",
    "\n",
    "| Error syndrom     | Probability ($p=0.01$)     |\n",
    "| :-----------:     | :------------------------------:  |\n",
    "| no error          |$ (1-p)^3≈0.97$                |\n",
    "| one error         | $ 3(1 − p)^2p ≈ 0.029$            |\n",
    "| two errors        |$3(1 − p)p^2 ≈ 0.0003$             |\n",
    "| three errors      | $p^3 = 10^{−6} $                  |\n",
    "\n"
   ]
  },
  {
   "cell_type": "markdown",
   "id": "64850002-62fe-4d96-9056-5e63e4c2ea8c",
   "metadata": {},
   "source": [
    "Consider that Asja communicates a single-bit message ‘0’ to Balvis. Using the three physical bit encoding, the message that she would send would be the ‘000’ codeword.\n",
    "\n",
    "In this case, for Balvis to decrypte the message, he will use what we call **majority rule**, meaning that he will vote the bits he received against one another, So our error correction protocol would be to continuously compare all three bits, if they don’t all match, flip the\n",
    "one which would bring them back to matching.\n",
    "\n",
    "A communication error only occurs when there are two- or three-bit errors, so the probability of a communication error goes from p when sending a single bit, to $3(1 − p)p^2 + p^3$ when sending three bits. \n",
    "\n",
    "This probability is less than p, if $p < 1/2$; if p is very small, then this error is of order  $3p^2 << p$. If for example the error probability p is one percent (0.01), then the probabilities of the various errors are show in the solutions of Task1. The rate of communication errors falls from one percent to roughly 0.03 percent by using this simple code, a reduction by a factor of 30 at the cost of having to send three times as many bits."
   ]
  },
  {
   "cell_type": "markdown",
   "id": "2a30ea61-1e53-49c6-98f9-efe321965310",
   "metadata": {},
   "source": [
    "\n",
    "For added protection one can use more redundant physical bits, such as five physical bits to encode one bit of information. Such larger code could withstand two bit-flip errors at a time and correction via majority rule would still be successful."
   ]
  },
  {
   "cell_type": "markdown",
   "id": "78be4fcc-9904-4116-9580-8c5e4f12d05f",
   "metadata": {},
   "source": [
    "#### Task2 (Optional)\n",
    "Find the communication error rate using a majority voting scheme for a 5-bit encoding, given a one-bit error rate p. (On paper)"
   ]
  },
  {
   "cell_type": "markdown",
   "id": "3d92ebd2-6ef9-432a-8ba7-6a3e7d4e48e7",
   "metadata": {},
   "source": [
    "### Quantum error correction"
   ]
  },
  {
   "cell_type": "markdown",
   "id": "d4fc2502-145c-46c3-936b-3132cb86d050",
   "metadata": {},
   "source": [
    "Quantum states and operations can also be protected from errors through the use of protocols for quantum computing with faulty components. These protocols are known as **quantum error correction codes QEC**. We start first by covering a simple protocole to correct quantum errors then we move to more sofisticated error correction codes. "
   ]
  },
  {
   "cell_type": "markdown",
   "id": "9be660cc-e4d2-4b67-875a-d8ee9cca64ce",
   "metadata": {},
   "source": [
    "**<h3>Bit-flip qubit encoding</h3>**"
   ]
  },
  {
   "cell_type": "markdown",
   "id": "b5a9c29b-37b3-4882-aff0-29f4f4d4fc2c",
   "metadata": {},
   "source": [
    "We have seen before how three-bit repetition code can be implemented in a classical communication channel. \n",
    "\n",
    "Now, we assume that Asja wants to communicate a quantum state $\\ket{u}=a\\ket{1}+b\\ket{0}$. \n",
    "\n",
    "Let’s assume that we can have only bit-flip errors, so we have the error\n",
    "processes $\\ket{0}$ → $\\ket{1}$ and $\\ket{1}$ → $\\ket{0}$ with a **probablity $p$**. This corresponds to applying an $\\hat{X}$ gate randomly. If the unwanted $\\hat{X}$ gate does not\n",
    "act, Balvis will receive the state $\\ket{u}$ , with probability $1 − p$. \n",
    "\n",
    "One can think of applying the repetition code to protect the quantum state from errors. Asja needs then to create the state $\\ket{u}\\ket{u}\\ket{u} = \\ket{uuu}$, not knowing a and b,\n",
    "Asja would have to duplicate the state and thus violate the **no-cloning theorem**. \n",
    "\n"
   ]
  },
  {
   "cell_type": "markdown",
   "id": "e73d2a4c-b843-49b8-90a4-a1915a3fd7e6",
   "metadata": {},
   "source": [
    "**No-cloning theorem:**\n",
    "\n",
    "This theorem claims that for a given qubit in an arbitrary unknown state $\\ket{\\psi_{1}}$ and\n",
    "another qubit in a known initial state $\\ket{\\psi_{2}}$, there does not exist any\n",
    "unitary operator $U$ (i.e., any quantum mechanical evolution) such that $$U(\\ket{\\psi_{1}}\\ket{\\psi_{2}})=\\ket{\\psi_{1}}\\ket{\\psi_{1}} $$ \n",
    "\n",
    "meaning that there is no quantum operation able to copy a state $\\ket{\\psi_{1}}$ into the auxiliary qubit $\\ket{\\psi_{2}}$.\n",
    "\n",
    "**Proof:**\n",
    "\n",
    "Suppose such a unitary operator as specified in the theoem. This means we can properly copy two orthogonal states $\\ket{0}$ and $\\ket{1}$, meaning: \n",
    "\n",
    "$$ U(\\ket{0}\\ket{\\psi_{1}})=\\ket{0}\\ket{0} $$ \n",
    "$$ U(\\ket{1}\\ket{\\psi_{1}})=\\ket{1}\\ket{1} $$ \n",
    "\n",
    "Quantum mechanical operators must be linear so we can try applying this operator to the linear superposition $a\\ket{0} + b\\ket{1}$ and we must get\n",
    "$$U( (a\\ket{0} + b\\ket{1})\\ket{\\psi_{1}} ) =a\\ket{0}\\ket{0} + b\\ket{1}\\ket{1}$$\n",
    "But this is not what a putative cloning device must give. Instead a clone of the bit should have given the outcome: \n",
    "$$U( (a\\ket{0} + b\\ket{1})\\ket{\\psi_{1} }) =(a\\ket{0} + b\\ket{1})(a\\ket{0} + b\\ket{1})$$\n",
    "which is not generally the same result. Thus no-cloning principle is proved."
   ]
  },
  {
   "cell_type": "markdown",
   "id": "e8da0213-4fe7-40f8-8ed4-521d872abf09",
   "metadata": {},
   "source": [
    "Hopefully, although cloning a quantum state is not possible, there is another method to create a 'redundent' state. Asja can use a three bit encoding by sending ,instead, a **Greenberger-Horne-Zeilinger GHZ state** , as follows: \n",
    "\n",
    "$$a\\ket{0} + b\\ket{1} ⇒ a\\ket{000} + b\\ket{111}$$\n"
   ]
  },
  {
   "cell_type": "markdown",
   "id": "c8dabc34-00d9-4894-9502-f736d410b5f0",
   "metadata": {},
   "source": [
    "Now let's see how to generate this GHZ state. \n",
    "\n",
    "This can be done by implementing the following circuit: \n",
    "- Asja starts first with $\\ket{u}$, in addition to two other qubits each in the state $\\ket{0}$.\n",
    "- Asja then does a CNOT using the first qubit as the control and the second qubit as the target, yielding the two-qubit state $a\\ket{00} + b\\ket{11}$ as the output. \n",
    "- She then does a second controlled-NOT with the third qubit, generating the desired three-qubit GHZ state $\\ket{q_0q_1q_2}=a\\ket{000} + b\\ket{111}$. "
   ]
  },
  {
   "cell_type": "markdown",
   "id": "d532abd7-85c7-406f-8341-ce9c6eeab102",
   "metadata": {},
   "source": [
    "#### Task3\n",
    "\n",
    "We define a quantum circuit with three qubits: $\\ket{u}= a\\ket{0} + b\\ket{1}$ and two other qubits $ q_0 $ and $ q_1 $ initialised to $\\ket{0}$. Implement the circuit following the previous operations to obtain a GHZ state. For simplification, we assume $a=b=\\frac{1}{\\sqrt{2}}$\n"
   ]
  },
  {
   "cell_type": "code",
   "execution_count": 1,
   "id": "bb836cb2-4c9b-48d3-a339-a895504b7b9d",
   "metadata": {},
   "outputs": [
    {
     "data": {
      "image/png": "[encoded data removed]",
      "text/plain": [
       "<Figure size 146.797x204.68 with 1 Axes>"
      ]
     },
     "execution_count": 1,
     "metadata": {},
     "output_type": "execute_result"
    }
   ],
   "source": [
    "from qiskit import QuantumCircuit\n",
    "qc = QuantumCircuit(3)\n",
    "qc.h(0) \n",
    "#ENTER CODE HERE \n",
    "qc.draw(output='mpl',reverse_bits=False)"
   ]
  },
  {
   "cell_type": "markdown",
   "id": "223d7c1a-a1c1-4698-8c5f-ef7105c4d132",
   "metadata": {},
   "source": [
    "#### Solution"
   ]
  },
  {
   "cell_type": "code",
   "execution_count": 3,
   "id": "919876f7-3a05-4a4c-8dbf-2f1f2008e60e",
   "metadata": {},
   "outputs": [
    {
     "data": {
      "image/png": "[encoded data removed]",
      "text/plain": [
       "<Figure size 267.197x204.68 with 1 Axes>"
      ]
     },
     "execution_count": 3,
     "metadata": {},
     "output_type": "execute_result"
    }
   ],
   "source": [
    "from qiskit import QuantumCircuit\n",
    "qc = QuantumCircuit(3)\n",
    "# Apply hadamard operator\n",
    "qc.h(0)\n",
    "#Apply CNOT operators\n",
    "qc.cx(0,1)\n",
    "qc.cx(0,2)\n",
    "qc.draw(output='mpl',reverse_bits=False)"
   ]
  },
  {
   "cell_type": "markdown",
   "id": "5bff0c43-b0d9-491d-9276-70a32da49fff",
   "metadata": {},
   "source": [
    "**Parity check measurement**"
   ]
  },
  {
   "cell_type": "markdown",
   "id": "d1c38dae-1f4f-4dbf-9808-f6facbcc9bbf",
   "metadata": {},
   "source": [
    "Now, Balvis receives the encoded qubit from Asja. He wants to check if there were any errors in transmission. To do this, Balvis needs to use two additional qubits $q3$ and $q4$, known as ancilla qubits, to “vote” the communication qubits against one another, using the following circuit:"
   ]
  },
  {
   "cell_type": "code",
   "execution_count": 4,
   "id": "3214fa80-6229-4a8c-b97a-06c547f7f609",
   "metadata": {},
   "outputs": [
    {
     "data": {
      "image/png": "[encoded data removed]",
      "text/plain": [
       "<Figure size 507.997x385.28 with 1 Axes>"
      ]
     },
     "execution_count": 4,
     "metadata": {},
     "output_type": "execute_result"
    }
   ],
   "source": [
    "from qiskit import QuantumCircuit\n",
    "\n",
    "\n",
    "qc = QuantumCircuit(5,2)\n",
    "qc.cx(0,4)\n",
    "qc.cx(1,4)\n",
    "qc.cx(1,3)\n",
    "qc.cx(2,3)\n",
    "qc.cx(3,4)\n",
    "qc.measure(3,0)\n",
    "qc.measure(4,1)\n",
    "\n",
    "#ENTER CODE HERE \n",
    "qc.draw(output='mpl',reverse_bits=False)"
   ]
  },
  {
   "cell_type": "markdown",
   "id": "c30bbe65-d6be-4ebe-ad0e-8c6670a5cc32",
   "metadata": {},
   "source": [
    "Then we measure the ancilla qubits. This method is called: **parity check measurement**. \n",
    "\n",
    "In fact, the way this circuit works is that the first and second qubits ($q_0$, $q_1$) control sequential CNOTs on the first ancilla $q_4$, which effectively makes these two qubits “vote” against one another; if they are not in the same state, the result is that the first ancilla is flipped. Then the second and third qubits  ($q_1$, $q_2$) do the same to the second ancilla $q_3$, flipping that ancilla if these two qubits differ.\n",
    "\n",
    "Finally, the two ancillas are compared, thus effectively comparing one and two against two\n",
    "and three, which is the same as one voting against three. The result is that the two ancillas\n",
    "report not only an error, but indicate in binary form where the error occurred; note the circuit only works if at most one qubit suffered an error.\n",
    "\n"
   ]
  },
  {
   "cell_type": "markdown",
   "id": "76906b94-974b-4775-a794-4ffb66c6f144",
   "metadata": {
    "jp-MarkdownHeadingCollapsed": true,
    "tags": []
   },
   "source": [
    "\n",
    "Let’s work through the parity check circuit, following its operation step by step. We assume that a single $X$ error has occurred to the second qubit during transmission, so the state Balvis receives is $a\\ket{010} + b\\ket{101}$ instead of the error-free $a\\ket{010} + b\\ket{101}$. \n",
    "\n",
    "The states following each of the gates in the circuit are then:\n",
    " $$\\ket{\\psi_{1}}=(a\\ket{010} + b\\ket{101})\\ket{00}$$\n",
    " $$\\ket{\\psi_{2}}=a\\ket{010}\\ket{00} + b\\ket{101}\\ket{10}$$\n",
    " $$\\ket{\\psi_{3}}=a\\ket{010}\\ket{10} + b\\ket{101}\\ket{10}$$\n",
    " $$\\ket{\\psi_{4}}=a\\ket{010}\\ket{11} + b\\ket{101}\\ket{10}$$\n",
    " $$\\ket{\\psi_{5}}=a\\ket{010}\\ket{11} + b\\ket{101}\\ket{11}$$\n",
    " $$\\ket{\\psi_{6}}=a\\ket{010}\\ket{10} + b\\ket{101}\\ket{10}=(a\\ket{010} + b\\ket{101})\\ket{10}$$"
   ]
  },
  {
   "cell_type": "markdown",
   "id": "d7fb3988-a591-4f4f-8c76-e38d621dee80",
   "metadata": {},
   "source": [
    "At the end of the process, the ancilla qubits encode the binary number $10$, which indicates\n",
    "an error on the second qubit; the measurement of the two ancillas at the end of this process\n",
    "would identify this error to Balvis, and he could then apply a corrective $X$ gate to the second qubit, recovering the state Asja had sent.\n"
   ]
  },
  {
   "cell_type": "markdown",
   "id": "bd014e00-f239-4e00-84e3-215675b75ec4",
   "metadata": {
    "tags": []
   },
   "source": [
    "<h3> Task4</h3>\n",
    "We assume in this task that a single $X$ error has occurred to the third qubit during transmission. Write the states following each of the gates in the circuit, and conclude how Balvis can check the error in the received quantum state."
   ]
  },
  {
   "cell_type": "markdown",
   "id": "ad78109a-213b-4073-bb2e-82c8de889f29",
   "metadata": {},
   "source": [
    "The following table summarizes the outcomes, where $q_0$\n",
    "through $q_2$ are the communicated qubits and $q_3$ and $q_4$\n",
    "are the ancillas; an X in the column for qj means that that qubit suffered an $X$ error. You can see that, as mentioned above, $q_3q_4$ is a binary-encoded indicator of where the error occurred.\n",
    "\n",
    "| q0 q1 q2     | q3 q4      |\n",
    "| :-----------:     | :------: |\n",
    "| 0 0 0          |0 0    |\n",
    "| X 0 0         | 0 1    |\n",
    "| 0 X 0       |1 0    |\n",
    "| 0 0 X      | 1 1  |\n",
    "\n",
    "\n",
    "\n"
   ]
  },
  {
   "cell_type": "markdown",
   "id": "96ca8fb8-095e-4e68-bb45-982de3cb6873",
   "metadata": {},
   "source": [
    "- If two or three qubits suffer errors, the circuit does not work, so we didn’t tabulate those errors.\n",
    "\n",
    "- The ancillas $q_3$ and $q_4 are called an error syndrome, indicating what error occurred."
   ]
  },
  {
   "cell_type": "markdown",
   "id": "a9f55b1b-6d39-4477-bfc6-afb64fe27b4e",
   "metadata": {},
   "source": [
    "**<h3>Nine qubit Shor Code</h3>**"
   ]
  },
  {
   "cell_type": "markdown",
   "id": "720780b1-9a77-47ac-a55c-8426462b93fe",
   "metadata": {},
   "source": [
    "In the previous code, we managed to detect only bit filp errors ($X$-errors). It turns out that (of course) there is a way to protect against both bit-flip and phase-flip errors;\n",
    "this was another of Peter Shor’s major discoveries. His code, which was the first example of a\n",
    "fully-protected error code, uses nine qubits in what is called a **concatenated code**.\n",
    "\n",
    "$$a\\ket{0} + b\\ket{1} ⇒ a\\frac{1}{2\\sqrt{2}}(\\ket{000} + \\ket{111}) (\\ket{000} + \\ket{111}) (\\ket{000} + \\ket{111})$$\n",
    "$$+ b\\frac{1}{2\\sqrt{2}}(\\ket{000} - \\ket{111}) (\\ket{000} - \\ket{111}) (\\ket{000} - \\ket{111}) .$$"
   ]
  },
  {
   "cell_type": "markdown",
   "id": "0de8e7c8-d59e-4cb4-9cae-9964791444ae",
   "metadata": {},
   "source": [
    "The encoding is done using the following circuit: "
   ]
  },
  {
   "cell_type": "code",
   "execution_count": 5,
   "id": "8d72ad0c-70ff-4f09-8e28-2d596b7a534e",
   "metadata": {},
   "outputs": [
    {
     "data": {
      "image/png": "[encoded data removed]",
      "text/plain": [
       "<Figure size 387.597x565.88 with 1 Axes>"
      ]
     },
     "execution_count": 5,
     "metadata": {},
     "output_type": "execute_result"
    }
   ],
   "source": [
    "from qiskit import QuantumCircuit\n",
    "qc = QuantumCircuit(9)\n",
    "qc.cx(0,3)\n",
    "qc.cx(0,6)\n",
    "qc.h(0)\n",
    "qc.h(3)\n",
    "qc.h(6)\n",
    "qc.cx(0,1)\n",
    "qc.cx(0,2)\n",
    "qc.cx(3,4)\n",
    "qc.cx(3,5)\n",
    "qc.cx(6,7)\n",
    "qc.cx(6,8)\n",
    "\n",
    "#ENTER CODE HERE \n",
    "qc.draw(output='mpl',reverse_bits=False)"
   ]
  },
  {
   "cell_type": "markdown",
   "id": "b91f667f-48aa-46b2-92d9-b36f661a8d16",
   "metadata": {},
   "source": [
    "The way the Shor code works is that each set of three initial qubits q0, q3 and q6 in the previous circuit are first\n",
    "encoded in the bit-flip code $a\\ket{000} + b\\ket{111}$ that we already looked at. Each qubit in this code is then the basis for a three-qubit block, where a qubit in $\\ket{0}$ is encoded as $\\ket{+++}$ and a\n",
    "qubit in $\\ket{1}$ becomes $\\ket{---}$. This allows detection and correction of both bit- and phase-flips."
   ]
  },
  {
   "cell_type": "markdown",
   "id": "933ccf3f-c3d9-485e-a4be-421ea76bf2e8",
   "metadata": {},
   "source": [
    "**References**\n",
    "\n",
    "- An introduction to the surface code by Andrew N. Cleland, University of Chicago, Chicago IL 60637, USA\n",
    "- Quantum Error Correction: An Introductory Guide by Joschka Roffe, Department of Physics & Astronomy, University of Sheffield, Sheffield, S3 7RH, United Kingdom\n",
    "- Topological Quantum: Lecture Notes and Proto-Book by Steven H. Simon\n"
   ]
  }
 ],
 "metadata": {
  "kernelspec": {
   "display_name": "Python 3 (ipykernel)",
   "language": "python",
   "name": "python3"
  },
  "language_info": {
   "codemirror_mode": {
    "name": "ipython",
    "version": 3
   },
   "file_extension": ".py",
   "mimetype": "text/x-python",
   "name": "python",
   "nbconvert_exporter": "python",
   "pygments_lexer": "ipython3",
   "version": "3.8.13"
  },
  "widgets": {
   "application/vnd.jupyter.widget-state+json": {
    "state": {},
    "version_major": 2,
    "version_minor": 0
   }
  }
 },
 "nbformat": 4,
 "nbformat_minor": 5
}
