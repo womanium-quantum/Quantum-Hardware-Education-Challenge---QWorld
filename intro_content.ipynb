{
 "cells": [
  {
   "cell_type": "markdown",
   "id": "48866762",
   "metadata": {},
   "source": [
    "<table  align=\"left\" width=\"100%\"> <tr>\n",
    "        <td  style=\"background-color:#ffffff;\"><img src=\"images/logo.png\" width=\"20%\" align=\"left\"></td>\n",
    "        <td style=\"color:#333333;background-color:#ffffff;font-size:12px;font-style:italic;text-align:right;\">This course was prepared by: Abdellah Tounsi, Mohamed Messaoud Louamri, Wafa Makhlouf, Amina Sadik, and Nacer eddine Belaloui. </td>     \n",
    "</tr></table>\n"
   ]
  },
  {
   "cell_type": "markdown",
   "id": "abab5b51",
   "metadata": {},
   "source": [
    "# Introduction to Topological Quantum Computing"
   ]
  },
  {
   "cell_type": "markdown",
   "id": "d5cb7bae",
   "metadata": {},
   "source": [
    "The purpose of this course is to introduce the student to the field of Topological Quantum Computing (TQC). Starting with some reminders on quantum computing, and an introduction to Classical and Quantum Error Correction, we delve into the 2D world of Anyons and Topological Qubits. We then learn how to manipulate these topological qubits to perform computations: first on a single qubit, and then on two qubits. Although, for the purposes of introducing TQC, single-qubit gates are enough.\n",
    "\n",
    "The student can also apply the acquired knowledge of TQC up to this point using the Anyons Simulator. Multiple qubits, and even qudits, can be simulated with an arbitrary number of anyons for each qubit/qudit.<br>\n",
    "Just as described in Anyons section, the student can choose any computational basis to work with."
   ]
  },
  {
   "cell_type": "markdown",
   "id": "7c85d1d0",
   "metadata": {},
   "source": [
    "#### Prerequisites\n",
    "The student is considered to have prior knowledge on the basics of quantum computing, complex numbers, and algebra. This would be equivalent to a QWorld's QBronze level in addition to complex numbers."
   ]
  },
  {
   "cell_type": "markdown",
   "id": "ed17e562",
   "metadata": {},
   "source": [
    "### Content\n",
    "\n",
    "#### Introduction to Quantum Hardware and Error Correction\n",
    "\n",
    "[Introduction to Quantum Hardware](A_Introduction_to_Quantum_Hardware_and_Error_Correction/A00_Introduction_to_quantum_hardware.ipynb)<br>\n",
    "[Introduction to Quantum Error Correction](A_Introduction_to_Quantum_Hardware_and_Error_Correction/A01_Introduction_to_quantum_error_correction.ipynb)<br>\n",
    "\n",
    "#### Anyons\n",
    "\n",
    "[Anyons and Topological Qubits](B_Anyons/B00_Anyons.ipynb)<br>\n",
    "\n",
    "#### Topological Quantum Gates\n",
    "\n",
    "[Single-Qubit Topological Quantum Gates](C_Topological_Quantum_Gates/C00_Single_Qubit_Topological_Gates.ipynb)<br>\n",
    "[Two-Qubits Topological Quantum Gates](C_Topological_Quantum_Gates/C01_Two_Qubit_Topological_Gates.ipynb)<br>\n",
    "[Topological Braiding Circuit Simulator](C_Topological_Quantum_Gates/C02_Topological_Braiding_Circuit_Simulator.ipynb) (Optional)<br>\n",
    "\n",
    "#### Implementing Anyons\n",
    "\n",
    "[Toric Code](D_Toric_Code/D00_Toric_Code.ipynb)<br>\n"
   ]
  },
  {
   "cell_type": "markdown",
   "id": "55cab1e5",
   "metadata": {},
   "source": [
    " "
   ]
  }
 ],
 "metadata": {
  "kernelspec": {
   "display_name": "Python 3 (ipykernel)",
   "language": "python",
   "name": "python3"
  },
  "language_info": {
   "codemirror_mode": {
    "name": "ipython",
    "version": 3
   },
   "file_extension": ".py",
   "mimetype": "text/x-python",
   "name": "python",
   "nbconvert_exporter": "python",
   "pygments_lexer": "ipython3",
   "version": "3.8.13"
  }
 },
 "nbformat": 4,
 "nbformat_minor": 5
}
